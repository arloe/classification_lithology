{
 "cells": [
  {
   "cell_type": "markdown",
   "metadata": {},
   "source": [
    "# 전체 파일 구조 설명\n",
    "* config.json: 실험에 사용되는 모든 hyperparameters를 정의하고 있는 파일.\n",
    "* train.ipynb: 학습 메인 파일.\n",
    "* test.ipynb: 테스트 메인 파일.\n",
    "* merge_csv_outputs.ipynb: 앙상블 방식으로 테스트 했을때 생성된 복수의 예측 결과 파일을 모두 로딩해서 그 평균을 계산함으로서 최종 예측 결과를 만들어 주는 파일.\n",
    "* base (**이 폴더내 파일들 절대 수정 금지**): 학습 과정 전반의 동작을 포괄적으로 정의하는 파일들로서, 이 파일들을 상속한 파일들(data_loader.py, model.py, trainer.py) 안에서 세부 동작 사항을 정의한다.\n",
    "\t* base_data_loader.py: 데이터 로딩 관련 함수/클래스 정의.\n",
    "\t* base_model.py: 모델 관련 관련 함수/클래스 정의.\n",
    "\t* base_trainer.py: 학습 과정 관련 함수/클래스 정의.\n",
    "* data: 데이터 저장 폴더.\n",
    "* data_loader\n",
    "\t* data_loaders.py: '*base/base_data_loader.py*'를 상속하며, 데이터 전처리및 로딩을 전담하고 있는 파일.\n",
    "    * block.py: 전체 모델을 구성하는 각 블럭을 정의하는 파일.\n",
    "\t* model.py: 복수의 블럭을 조립해서 하나의 전체 모델을 정의하고 있는 파일.\n",
    "   \t* loss.py: train/validation/test에서 사용되는 loss를 저장하고 있는 파일. torch에서 기본 제공하는 loss를 사용하거나 사용자가 직접 loss를 정의해 사용할 수 있다.\n",
    "* trainer\n",
    "\t* trainer.py\n",
    "* utils\n",
    "\t* util.py: 프로그램 수행중 공통적으로 사용되는 기능을 저장하는 함수로서 그림 저장, 폴더 존재 확인 등의 기능을 제공.\n",
    "   \t* logger.py: 학습 과정을 모니터로 보여주고 동시에 파일에도 저장하는 기능을 정의한 파일.\n",
    "\t* visualization.py: 학습 과정을 Tensorboard에 기록할때 사용되는 기능 & lith label 결과에 대한 graph 을 정의한 파일"
   ]
  },
  {
   "cell_type": "markdown",
   "metadata": {},
   "source": [
    "# 모듈 로딩"
   ]
  },
  {
   "cell_type": "code",
   "execution_count": 20,
   "metadata": {},
   "outputs": [],
   "source": [
    "from __future__ import print_function\n",
    "\n",
    "import os\n",
    "import json\n",
    "import argparse\n",
    "\n",
    "import torch\n",
    "            \n",
    "import model.metric as module_metric\n",
    "import model.model as module_arch\n",
    "\n",
    "from utils import Logger\n",
    "from utils.util import get_instance\n",
    "\n",
    "from data_loader.data_loaders import load_data, data_to_tensor\n",
    "from trainer.trainer import Trainer"
   ]
  },
  {
   "cell_type": "markdown",
   "metadata": {},
   "source": [
    "# 사용자 입력 설정\n",
    "* args_config: 실험에 사용되는 모든 hyperparameters를 담고 있는 json 파일의 경로와 이름. 경로 정보가 없을 경우 train.ipynb 파일이 있는 위치에서 해당 파일을 찾는다. 아무 값도 입력되지 않을경우 **에러**.\n",
    "* args_device (**사용 주의**): 실험이 수행되는 환경에 복수개의 GPU가 있는 경우 특정 GPU를 명시해 수행. 예를 들어 현재 총 4개의 GPU가 달려 있고 만약 첫번째 GPU에서 실험을 수행하려면 이 옵션을 0으로, 마지막 GPU에서 수행하려면 3으로 설정. 아무 값도 입력되지 않을경우 첫번째 GPU에서 수행.\n",
    "* args_resume (**사용 주의**): 기존에 수행되었던 실험을 이어서 실험을 시작할 경우 이 옵션을 통해 해당 체크 포인트의 위치 지정. 아무 값도 입력되지 않을경우 처음부터 학습 시작.\n",
    "* args_indicator: 현 실험에 대한 간단한 메모. 예를 들어 이 옵션을 'lr0.01' 이라고 했다면 이 실험 결과가 저장되는 폴더 이름에 이 메모가 덪붙여짐으로서 폴더 이름만 보고도 어떤 실험의 결과인지 쉽게 추측할수 있다. 아무 값도 입력되지 않을경우 실험 시작 날짜로만 폴더명 설정됨."
   ]
  },
  {
   "cell_type": "code",
   "execution_count": 21,
   "metadata": {},
   "outputs": [],
   "source": [
    "args_config = \"config.json\"\n",
    "args_device = \"0\"\n",
    "args_resume = \"\"\n",
    "args_indicator = \"cv\""
   ]
  },
  {
   "cell_type": "markdown",
   "metadata": {},
   "source": [
    "# 실험 변수 설정"
   ]
  },
  {
   "cell_type": "code",
   "execution_count": 22,
   "metadata": {},
   "outputs": [],
   "source": [
    "if args_config:\n",
    "    # load config file\n",
    "    with open(args_config) as handle:\n",
    "        config = json.load(handle)\n",
    "    # setting path to save trained models and log files\n",
    "    path = os.path.join(config[\"trainer\"][\"save_dir\"], config[\"name\"])\n",
    "elif args_resume:\n",
    "    # load config from checkpoint if new config file is not given.\n",
    "    # Use '--config' and '--resume' together to fine-tune trained model with changed configurations.\n",
    "    config = torch.load(args.resume)[\"config\"]\n",
    "else:\n",
    "    raise AssertionError(\"Configuration file need to be specified. Add '-c config.json', for example.\")\n",
    "\n",
    "if args_device:\n",
    "    os.environ[\"CUDA_VISIBLE_DEVICES\"] = args_device\n",
    "    \n",
    "# define parameters\n",
    "in_features = config[\"data_loader\"][\"args\"][\"in_features\"]\n",
    "chunk_depth = config[\"arch\"][\"args\"][\"chunk_depth\"]\n",
    "\n",
    "# # The number of features (for CNN)\n",
    "# config[\"arch\"][\"args\"][\"feature_num\"] =  len( config[\"data_loader\"][\"args\"][\"in_features\"] )"
   ]
  },
  {
   "cell_type": "markdown",
   "metadata": {},
   "source": [
    "# 데이터 로딩\n",
    "'*data_loader/data_loader.py*' 모듈 호출을 통해 train과 validation에 필요한 데이터를 전처리 후 반환한다. 현재 수행하는 전처리로는 결측값 제외, 정규화 등이 있다. 이런게 전처리된 데이터들은 lith prediction 모델에 적합하도록 그룹화 되어 반환된다."
   ]
  },
  {
   "cell_type": "code",
   "execution_count": 23,
   "metadata": {},
   "outputs": [
    {
     "name": "stdout",
     "output_type": "stream",
     "text": [
      "Loading Data....\n"
     ]
    }
   ],
   "source": [
    "# Loading data\n",
    "train_raw_df, valid_raw_df = load_data( **config[\"data_loader\"][\"args\"] )\n",
    "\n",
    "## -- START: Training\n",
    "train_loader, train_df, scaler = data_to_tensor(  df = train_raw_df\n",
    "                                                , in_features = in_features\n",
    "                                                , chunk_depth = chunk_depth\n",
    "                                                , **config[\"tensor_loader\"][\"args\"] )\n",
    "valid_loader, valid_df, _ = data_to_tensor(  df = valid_raw_df\n",
    "                                           , in_features = in_features\n",
    "                                           , chunk_depth = chunk_depth\n",
    "                                           , scaler = scaler\n",
    "                                           , **config[\"tensor_loader\"][\"args\"] )"
   ]
  },
  {
   "cell_type": "markdown",
   "metadata": {},
   "source": [
    "# 모델 빌드 및 Run\n",
    "lith 모델을 생성하고, optimizer와 learning rate scheduler 역시 생성한다. 모델의 전체 구조는 '*model/model.py*'에 정의되어 있으며 optimizer와 learning rate scheduler는 torch에서 제공하는 것을 사용한다. 모델, optimizer, learning rate scheduler 선택 및 각각의 hyperparameters 설정은 args_config 파일에서 할 수 있다.\n",
    "\n",
    "이때, **config** 내 **mode**의 값에 따라서 validation을 수행한다. mode를 \"CV\"로 설정한다면 train well 별로 cross-validation을, \"SR\"일 경우에는 lith label 별로 train data : validation data = 6:4으로 split한 뒤 validation을 수행한다."
   ]
  },
  {
   "cell_type": "code",
   "execution_count": 24,
   "metadata": {
    "scrolled": true
   },
   "outputs": [],
   "source": [
    "# build model architecture\n",
    "model   = get_instance(module_arch, \"arch\", config)\n",
    "metrics = [ getattr(module_metric, met) for met in config[\"metrics\"] ]\n",
    "trainable_params = filter(lambda p: p.requires_grad, model.parameters() )\n",
    "optimizer = get_instance(torch.optim, \"optimizer\", config, trainable_params)\n",
    "lr_scheduler = get_instance(torch.optim.lr_scheduler, \"lr_scheduler_onplateau\", config, optimizer)\n",
    "train_logger = Logger()"
   ]
  },
  {
   "cell_type": "code",
   "execution_count": 25,
   "metadata": {},
   "outputs": [
    {
     "name": "stdout",
     "output_type": "stream",
     "text": [
      "ResnetModel(\n",
      "  (conv1): Conv2d(1, 8, kernel_size=(1, 1), stride=(1, 1), bias=False)\n",
      "  (bn1): BatchNorm2d(8, eps=1e-05, momentum=0.1, affine=True, track_running_stats=True)\n",
      "  (relu): RReLU(lower=0.125, upper=0.3333333333333333)\n",
      "  (lsm): LogSoftmax(dim=1)\n",
      "  (softmax): Softmax(dim=1)\n",
      "  (layer1x1_1): Sequential(\n",
      "    (0): BasicBlock1x1(\n",
      "      (conv1): Conv2d(1, 8, kernel_size=(1, 1), stride=(1, 1), bias=False)\n",
      "      (bn1): BatchNorm2d(8, eps=1e-05, momentum=0.1, affine=True, track_running_stats=True)\n",
      "      (relu): RReLU(lower=0.125, upper=0.3333333333333333)\n",
      "      (conv2): Conv2d(8, 8, kernel_size=(1, 1), stride=(1, 1), bias=False)\n",
      "      (bn2): BatchNorm2d(8, eps=1e-05, momentum=0.1, affine=True, track_running_stats=True)\n",
      "      (downsample): Sequential(\n",
      "        (0): Conv2d(1, 8, kernel_size=(1, 1), stride=(1, 1), bias=False)\n",
      "        (1): BatchNorm2d(8, eps=1e-05, momentum=0.1, affine=True, track_running_stats=True)\n",
      "      )\n",
      "      (conv_dropout): Dropout(p=0.2, inplace=False)\n",
      "    )\n",
      "  )\n",
      "  (layer1x1_2): Sequential(\n",
      "    (0): BasicBlock1x1(\n",
      "      (conv1): Conv2d(8, 16, kernel_size=(1, 1), stride=(1, 1), bias=False)\n",
      "      (bn1): BatchNorm2d(16, eps=1e-05, momentum=0.1, affine=True, track_running_stats=True)\n",
      "      (relu): RReLU(lower=0.125, upper=0.3333333333333333)\n",
      "      (conv2): Conv2d(16, 16, kernel_size=(1, 1), stride=(1, 1), bias=False)\n",
      "      (bn2): BatchNorm2d(16, eps=1e-05, momentum=0.1, affine=True, track_running_stats=True)\n",
      "      (downsample): Sequential(\n",
      "        (0): Conv2d(8, 16, kernel_size=(1, 1), stride=(1, 1), bias=False)\n",
      "        (1): BatchNorm2d(16, eps=1e-05, momentum=0.1, affine=True, track_running_stats=True)\n",
      "      )\n",
      "      (conv_dropout): Dropout(p=0.2, inplace=False)\n",
      "    )\n",
      "  )\n",
      "  (layer1x1_3): Sequential(\n",
      "    (0): BasicBlock1x1(\n",
      "      (conv1): Conv2d(16, 32, kernel_size=(1, 1), stride=(1, 1), bias=False)\n",
      "      (bn1): BatchNorm2d(32, eps=1e-05, momentum=0.1, affine=True, track_running_stats=True)\n",
      "      (relu): RReLU(lower=0.125, upper=0.3333333333333333)\n",
      "      (conv2): Conv2d(32, 32, kernel_size=(1, 1), stride=(1, 1), bias=False)\n",
      "      (bn2): BatchNorm2d(32, eps=1e-05, momentum=0.1, affine=True, track_running_stats=True)\n",
      "      (downsample): Sequential(\n",
      "        (0): Conv2d(16, 32, kernel_size=(1, 1), stride=(1, 1), bias=False)\n",
      "        (1): BatchNorm2d(32, eps=1e-05, momentum=0.1, affine=True, track_running_stats=True)\n",
      "      )\n",
      "      (conv_dropout): Dropout(p=0.2, inplace=False)\n",
      "    )\n",
      "  )\n",
      "  (avgpool1): AdaptiveAvgPool2d(output_size=1)\n",
      "  (layer3x3_1): Sequential(\n",
      "    (0): BasicBlock3x3(\n",
      "      (conv1): Conv2d(1, 8, kernel_size=(3, 3), stride=(2, 2), padding=(1, 1), bias=False)\n",
      "      (bn1): BatchNorm2d(8, eps=1e-05, momentum=0.1, affine=True, track_running_stats=True)\n",
      "      (relu): RReLU(lower=0.125, upper=0.3333333333333333)\n",
      "      (conv2): Conv2d(8, 8, kernel_size=(3, 3), stride=(1, 1), padding=(1, 1), bias=False)\n",
      "      (bn2): BatchNorm2d(8, eps=1e-05, momentum=0.1, affine=True, track_running_stats=True)\n",
      "      (downsample): Sequential(\n",
      "        (0): Conv2d(1, 8, kernel_size=(1, 1), stride=(2, 2), bias=False)\n",
      "        (1): BatchNorm2d(8, eps=1e-05, momentum=0.1, affine=True, track_running_stats=True)\n",
      "      )\n",
      "      (conv_dropout): Dropout(p=0.2, inplace=False)\n",
      "    )\n",
      "  )\n",
      "  (layer3x3_2): Sequential(\n",
      "    (0): BasicBlock3x3(\n",
      "      (conv1): Conv2d(8, 16, kernel_size=(3, 3), stride=(2, 2), padding=(1, 1), bias=False)\n",
      "      (bn1): BatchNorm2d(16, eps=1e-05, momentum=0.1, affine=True, track_running_stats=True)\n",
      "      (relu): RReLU(lower=0.125, upper=0.3333333333333333)\n",
      "      (conv2): Conv2d(16, 16, kernel_size=(3, 3), stride=(1, 1), padding=(1, 1), bias=False)\n",
      "      (bn2): BatchNorm2d(16, eps=1e-05, momentum=0.1, affine=True, track_running_stats=True)\n",
      "      (downsample): Sequential(\n",
      "        (0): Conv2d(8, 16, kernel_size=(1, 1), stride=(2, 2), bias=False)\n",
      "        (1): BatchNorm2d(16, eps=1e-05, momentum=0.1, affine=True, track_running_stats=True)\n",
      "      )\n",
      "      (conv_dropout): Dropout(p=0.2, inplace=False)\n",
      "    )\n",
      "  )\n",
      "  (layer3x3_3): Sequential(\n",
      "    (0): BasicBlock3x3(\n",
      "      (conv1): Conv2d(16, 32, kernel_size=(3, 3), stride=(2, 2), padding=(1, 1), bias=False)\n",
      "      (bn1): BatchNorm2d(32, eps=1e-05, momentum=0.1, affine=True, track_running_stats=True)\n",
      "      (relu): RReLU(lower=0.125, upper=0.3333333333333333)\n",
      "      (conv2): Conv2d(32, 32, kernel_size=(3, 3), stride=(1, 1), padding=(1, 1), bias=False)\n",
      "      (bn2): BatchNorm2d(32, eps=1e-05, momentum=0.1, affine=True, track_running_stats=True)\n",
      "      (downsample): Sequential(\n",
      "        (0): Conv2d(16, 32, kernel_size=(1, 1), stride=(2, 2), bias=False)\n",
      "        (1): BatchNorm2d(32, eps=1e-05, momentum=0.1, affine=True, track_running_stats=True)\n",
      "      )\n",
      "      (conv_dropout): Dropout(p=0.2, inplace=False)\n",
      "    )\n",
      "  )\n",
      "  (avgpool3): AdaptiveAvgPool2d(output_size=1)\n",
      "  (layer5x5_1): Sequential(\n",
      "    (0): BasicBlock5x5(\n",
      "      (conv1): Conv2d(1, 8, kernel_size=(5, 5), stride=(3, 3), padding=(2, 2), bias=False)\n",
      "      (bn1): BatchNorm2d(8, eps=1e-05, momentum=0.1, affine=True, track_running_stats=True)\n",
      "      (relu): RReLU(lower=0.125, upper=0.3333333333333333)\n",
      "      (conv2): Conv2d(8, 8, kernel_size=(5, 5), stride=(1, 1), padding=(2, 2), bias=False)\n",
      "      (bn2): BatchNorm2d(8, eps=1e-05, momentum=0.1, affine=True, track_running_stats=True)\n",
      "      (downsample): Sequential(\n",
      "        (0): Conv2d(1, 8, kernel_size=(1, 1), stride=(3, 3), bias=False)\n",
      "        (1): BatchNorm2d(8, eps=1e-05, momentum=0.1, affine=True, track_running_stats=True)\n",
      "      )\n",
      "      (conv_dropout): Dropout(p=0.2, inplace=False)\n",
      "    )\n",
      "  )\n",
      "  (layer5x5_2): Sequential(\n",
      "    (0): BasicBlock5x5(\n",
      "      (conv1): Conv2d(8, 16, kernel_size=(5, 5), stride=(3, 3), padding=(2, 2), bias=False)\n",
      "      (bn1): BatchNorm2d(16, eps=1e-05, momentum=0.1, affine=True, track_running_stats=True)\n",
      "      (relu): RReLU(lower=0.125, upper=0.3333333333333333)\n",
      "      (conv2): Conv2d(16, 16, kernel_size=(5, 5), stride=(1, 1), padding=(2, 2), bias=False)\n",
      "      (bn2): BatchNorm2d(16, eps=1e-05, momentum=0.1, affine=True, track_running_stats=True)\n",
      "      (downsample): Sequential(\n",
      "        (0): Conv2d(8, 16, kernel_size=(1, 1), stride=(3, 3), bias=False)\n",
      "        (1): BatchNorm2d(16, eps=1e-05, momentum=0.1, affine=True, track_running_stats=True)\n",
      "      )\n",
      "      (conv_dropout): Dropout(p=0.2, inplace=False)\n",
      "    )\n",
      "  )\n",
      "  (layer5x5_3): Sequential(\n",
      "    (0): BasicBlock5x5(\n",
      "      (conv1): Conv2d(16, 32, kernel_size=(5, 5), stride=(3, 3), padding=(2, 2), bias=False)\n",
      "      (bn1): BatchNorm2d(32, eps=1e-05, momentum=0.1, affine=True, track_running_stats=True)\n",
      "      (relu): RReLU(lower=0.125, upper=0.3333333333333333)\n",
      "      (conv2): Conv2d(32, 32, kernel_size=(5, 5), stride=(1, 1), padding=(2, 2), bias=False)\n",
      "      (bn2): BatchNorm2d(32, eps=1e-05, momentum=0.1, affine=True, track_running_stats=True)\n",
      "      (downsample): Sequential(\n",
      "        (0): Conv2d(16, 32, kernel_size=(1, 1), stride=(3, 3), bias=False)\n",
      "        (1): BatchNorm2d(32, eps=1e-05, momentum=0.1, affine=True, track_running_stats=True)\n",
      "      )\n",
      "      (conv_dropout): Dropout(p=0.2, inplace=False)\n",
      "    )\n",
      "  )\n",
      "  (avgpool5): AdaptiveAvgPool2d(output_size=1)\n",
      "  (layer7x7_1): Sequential(\n",
      "    (0): BasicBlock7x7(\n",
      "      (conv1): Conv2d(1, 8, kernel_size=(7, 7), stride=(4, 4), padding=(3, 3), bias=False)\n",
      "      (bn1): BatchNorm2d(8, eps=1e-05, momentum=0.1, affine=True, track_running_stats=True)\n",
      "      (relu): RReLU(lower=0.125, upper=0.3333333333333333)\n",
      "      (conv2): Conv2d(8, 8, kernel_size=(1, 1), stride=(1, 1), bias=False)\n",
      "      (bn2): BatchNorm2d(8, eps=1e-05, momentum=0.1, affine=True, track_running_stats=True)\n",
      "      (downsample): Sequential(\n",
      "        (0): Conv2d(1, 8, kernel_size=(1, 1), stride=(4, 4), bias=False)\n",
      "        (1): BatchNorm2d(8, eps=1e-05, momentum=0.1, affine=True, track_running_stats=True)\n",
      "      )\n",
      "      (conv_dropout): Dropout(p=0.2, inplace=False)\n",
      "    )\n",
      "  )\n",
      "  (layer7x7_2): Sequential(\n",
      "    (0): BasicBlock7x7(\n",
      "      (conv1): Conv2d(8, 16, kernel_size=(7, 7), stride=(4, 4), padding=(3, 3), bias=False)\n",
      "      (bn1): BatchNorm2d(16, eps=1e-05, momentum=0.1, affine=True, track_running_stats=True)\n",
      "      (relu): RReLU(lower=0.125, upper=0.3333333333333333)\n",
      "      (conv2): Conv2d(16, 16, kernel_size=(1, 1), stride=(1, 1), bias=False)\n",
      "      (bn2): BatchNorm2d(16, eps=1e-05, momentum=0.1, affine=True, track_running_stats=True)\n",
      "      (downsample): Sequential(\n",
      "        (0): Conv2d(8, 16, kernel_size=(1, 1), stride=(4, 4), bias=False)\n",
      "        (1): BatchNorm2d(16, eps=1e-05, momentum=0.1, affine=True, track_running_stats=True)\n",
      "      )\n",
      "      (conv_dropout): Dropout(p=0.2, inplace=False)\n",
      "    )\n",
      "  )\n",
      "  (layer7x7_3): Sequential(\n",
      "    (0): BasicBlock7x7(\n",
      "      (conv1): Conv2d(16, 32, kernel_size=(7, 7), stride=(4, 4), padding=(3, 3), bias=False)\n",
      "      (bn1): BatchNorm2d(32, eps=1e-05, momentum=0.1, affine=True, track_running_stats=True)\n",
      "      (relu): RReLU(lower=0.125, upper=0.3333333333333333)\n",
      "      (conv2): Conv2d(32, 32, kernel_size=(1, 1), stride=(1, 1), bias=False)\n",
      "      (bn2): BatchNorm2d(32, eps=1e-05, momentum=0.1, affine=True, track_running_stats=True)\n",
      "      (downsample): Sequential(\n",
      "        (0): Conv2d(16, 32, kernel_size=(1, 1), stride=(4, 4), bias=False)\n",
      "        (1): BatchNorm2d(32, eps=1e-05, momentum=0.1, affine=True, track_running_stats=True)\n",
      "      )\n",
      "      (conv_dropout): Dropout(p=0.2, inplace=False)\n",
      "    )\n",
      "  )\n",
      "  (avgpool7): AdaptiveAvgPool2d(output_size=1)\n",
      "  (conv_dropout): Dropout(p=0.2, inplace=False)\n",
      "  (fc_dropout): Dropout(p=0.3, inplace=False)\n",
      "  (fc): Linear(in_features=96, out_features=10, bias=True)\n",
      ")\n"
     ]
    }
   ],
   "source": [
    "print( model )"
   ]
  },
  {
   "cell_type": "code",
   "execution_count": 26,
   "metadata": {},
   "outputs": [],
   "source": [
    "%%capture\n",
    "trainer = Trainer(  model         = model\n",
    "                  , metrics       = metrics\n",
    "                  , optimizer     = optimizer\n",
    "                  , indicator     = args_indicator\n",
    "                  , chunk_depth   = chunk_depth\n",
    "                  , resume        = args_resume\n",
    "                  , config        = config\n",
    "                  , train_loader  = train_loader\n",
    "                  , valid_loader  = valid_loader\n",
    "                  , lr_scheduler  = lr_scheduler\n",
    "                  , train_logger  = train_logger\n",
    "                  , scaler        = scaler\n",
    "                  )\n",
    "trainer.train()"
   ]
  },
  {
   "cell_type": "markdown",
   "metadata": {},
   "source": [
    "# visualization\n",
    "training, validation loss는 아래와 같다"
   ]
  },
  {
   "cell_type": "code",
   "execution_count": 27,
   "metadata": {},
   "outputs": [
    {
     "data": {
      "image/png": "[encoded data removed]",
      "text/plain": [
       "<Figure size 432x288 with 1 Axes>"
      ]
     },
     "metadata": {
      "needs_background": "light"
     },
     "output_type": "display_data"
    }
   ],
   "source": [
    "from matplotlib import pyplot as plt\n",
    "\n",
    "fig = plt.figure()\n",
    "ax = fig.add_subplot(1,1,1)\n",
    "\n",
    "ax.plot( trainer.train_loss, color = \"black\", label = \"training loss\" )\n",
    "ax.plot( trainer.valid_loss, color = \"red\", label = \"validation loss\" )\n",
    "plt.legend()\n",
    "plt.show()"
   ]
  }
 ],
 "metadata": {
  "kernelspec": {
   "display_name": "Python 3",
   "language": "python",
   "name": "python3"
  },
  "language_info": {
   "codemirror_mode": {
    "name": "ipython",
    "version": 3
   },
   "file_extension": ".py",
   "mimetype": "text/x-python",
   "name": "python",
   "nbconvert_exporter": "python",
   "pygments_lexer": "ipython3",
   "version": "3.8.3"
  }
 },
 "nbformat": 4,
 "nbformat_minor": 4
}
